{
 "cells": [
  {
   "cell_type": "markdown",
   "id": "6a89c16c",
   "metadata": {},
   "source": [
    "examples"
   ]
  },
  {
   "cell_type": "markdown",
   "id": "428bf2d2",
   "metadata": {},
   "source": [
    "1.Write a Pandas program to create a Pivot table with multiple indexes from a given excel sheet (Salesdata.xlsx)."
   ]
  },
  {
   "cell_type": "code",
   "execution_count": null,
   "id": "5d4521b5",
   "metadata": {},
   "outputs": [],
   "source": []
  },
  {
   "cell_type": "markdown",
   "id": "8e7e3160",
   "metadata": {},
   "source": [
    "2.Write a Pandas program to create a Pivot table and find the total sale amount region wise, manager wise.3."
   ]
  },
  {
   "cell_type": "code",
   "execution_count": null,
   "id": "8c74bf22",
   "metadata": {},
   "outputs": [],
   "source": []
  },
  {
   "cell_type": "markdown",
   "id": "10cb9a82",
   "metadata": {},
   "source": [
    "3.Write a Pandas program to create a Pivot table and find the total sale amount region wise, manager wise, sales man wise."
   ]
  },
  {
   "cell_type": "code",
   "execution_count": null,
   "id": "c7327ce3",
   "metadata": {},
   "outputs": [],
   "source": []
  },
  {
   "cell_type": "markdown",
   "id": "77d2ccb6",
   "metadata": {},
   "source": [
    "4.Write a Pandas program to create a Pivot table and find the item wise unit sold"
   ]
  },
  {
   "cell_type": "code",
   "execution_count": null,
   "id": "bd18230f",
   "metadata": {},
   "outputs": [],
   "source": []
  },
  {
   "cell_type": "markdown",
   "id": "36ae0607",
   "metadata": {},
   "source": [
    "5.Write a Pandas program to create a Pivot table and find the region wise total sale."
   ]
  },
  {
   "cell_type": "code",
   "execution_count": null,
   "id": "a499a52b",
   "metadata": {},
   "outputs": [],
   "source": []
  },
  {
   "cell_type": "markdown",
   "id": "0908c13b",
   "metadata": {},
   "source": [
    "6.Write a Pandas program to create a Pivot table and find the region wise, item wise unit sold"
   ]
  },
  {
   "cell_type": "code",
   "execution_count": null,
   "id": "991de019",
   "metadata": {},
   "outputs": [],
   "source": []
  },
  {
   "cell_type": "markdown",
   "id": "3cd01303",
   "metadata": {},
   "source": [
    "7.Write a Pandas program to create a Pivot table and count the manager wise sale and mean value of sale amount."
   ]
  },
  {
   "cell_type": "code",
   "execution_count": null,
   "id": "57bc293b",
   "metadata": {},
   "outputs": [],
   "source": []
  },
  {
   "cell_type": "markdown",
   "id": "777e36fe",
   "metadata": {},
   "source": [
    "8.Write a Pandas program to create a Pivot table and find manager wise, salesman wise total sale and also display the sum of all sale amount at the bottom"
   ]
  },
  {
   "cell_type": "code",
   "execution_count": null,
   "id": "f403a3b2",
   "metadata": {},
   "outputs": [],
   "source": []
  },
  {
   "cell_type": "markdown",
   "id": "bb299567",
   "metadata": {},
   "source": [
    "9.Write a Pandas program to create a Pivot table and find the total sale amount region wise, manager wise, sales man wise where Manager = \"Douglas\"."
   ]
  },
  {
   "cell_type": "code",
   "execution_count": null,
   "id": "0b7366cb",
   "metadata": {},
   "outputs": [],
   "source": []
  },
  {
   "cell_type": "markdown",
   "id": "e2dcdcc8",
   "metadata": {},
   "source": [
    "10.Write a Pandas program to create a Pivot table and find the region wise Television and Home Theater sold. "
   ]
  },
  {
   "cell_type": "code",
   "execution_count": null,
   "id": "359eab98",
   "metadata": {},
   "outputs": [],
   "source": []
  },
  {
   "cell_type": "markdown",
   "id": "dacc196a",
   "metadata": {},
   "source": [
    " 11.Write a Pandas program to create a Pivot table and find the maximum sale value of the items. "
   ]
  },
  {
   "cell_type": "code",
   "execution_count": null,
   "id": "1370b1eb",
   "metadata": {},
   "outputs": [],
   "source": []
  },
  {
   "cell_type": "markdown",
   "id": "fc299831",
   "metadata": {},
   "source": [
    "12.Write a Pandas program to create a Pivot table and find the minimum sale value of the items. "
   ]
  },
  {
   "cell_type": "code",
   "execution_count": null,
   "id": "fd639f59",
   "metadata": {},
   "outputs": [],
   "source": []
  },
  {
   "cell_type": "markdown",
   "id": "314d36ec",
   "metadata": {},
   "source": [
    "13.Write a Pandas program to create a Pivot table and find the maximum and minimum sale value of the items. \n",
    "Footer"
   ]
  },
  {
   "cell_type": "code",
   "execution_count": null,
   "id": "bdbdaa62",
   "metadata": {},
   "outputs": [],
   "source": []
  }
 ],
 "metadata": {
  "kernelspec": {
   "display_name": "Python 3 (ipykernel)",
   "language": "python",
   "name": "python3"
  },
  "language_info": {
   "codemirror_mode": {
    "name": "ipython",
    "version": 3
   },
   "file_extension": ".py",
   "mimetype": "text/x-python",
   "name": "python",
   "nbconvert_exporter": "python",
   "pygments_lexer": "ipython3",
   "version": "3.9.12"
  }
 },
 "nbformat": 4,
 "nbformat_minor": 5
}
