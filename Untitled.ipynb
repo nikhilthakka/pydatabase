{
 "cells": [
  {
   "cell_type": "markdown",
   "id": "82093899",
   "metadata": {},
   "source": [
    "# Panda series"
   ]
  },
  {
   "cell_type": "code",
   "execution_count": 2,
   "id": "9bcf5aa1",
   "metadata": {},
   "outputs": [
    {
     "name": "stdout",
     "output_type": "stream",
     "text": [
      "0    1\n",
      "1    2\n",
      "2    3\n",
      "3    4\n",
      "4    5\n",
      "dtype: int64\n",
      "0    a\n",
      "1    b\n",
      "2    c\n",
      "3    d\n",
      "4    e\n",
      "dtype: object\n"
     ]
    }
   ],
   "source": [
    "import numpy as np\n",
    "import pandas as pd\n",
    "s=pd.Series([1,2,3,4,5])\n",
    "print(s)\n",
    "a=pd.Series(['a','b','c','d','e'])\n",
    "print(a)"
   ]
  },
  {
   "cell_type": "code",
   "execution_count": 4,
   "id": "130e79f5",
   "metadata": {},
   "outputs": [
    {
     "name": "stdout",
     "output_type": "stream",
     "text": [
      "0     23\n",
      "1     45\n",
      "2     65\n",
      "3     43\n",
      "4     10\n",
      "5     15\n",
      "6     21\n",
      "7     37\n",
      "8      9\n",
      "9      4\n",
      "10    11\n",
      "dtype: int64\n"
     ]
    }
   ],
   "source": [
    "import numpy as np\n",
    "import pandas as pd\n",
    "score=pd.Series([23,45,65,43,10,15,21,37,9,4,11])\n",
    "print(score)"
   ]
  },
  {
   "cell_type": "code",
   "execution_count": 6,
   "id": "88beb1b9",
   "metadata": {},
   "outputs": [
    {
     "name": "stdout",
     "output_type": "stream",
     "text": [
      "aaaaaaaaaaa    23\n",
      "bbbbbbbbbb     45\n",
      "hhhhhhhh       65\n",
      "iiiiiii        43\n",
      "nnnnnnnnnn     10\n",
      "aaaaaaaa       15\n",
      "vvvvvvvvvv     21\n",
      "ppppppp        37\n",
      "nnnnnnnn        9\n",
      "aaaaaaa         4\n",
      "iiiiiiiii      11\n",
      "dtype: int64\n"
     ]
    }
   ],
   "source": [
    "import numpy as np\n",
    "import pandas as pd\n",
    "i=pd.Index(['aaaaaaaaaaa','bbbbbbbbbb','hhhhhhhh','iiiiiii','nnnnnnnnnn','aaaaaaaa','vvvvvvvvvv','ppppppp','nnnnnnnn','aaaaaaa','iiiiiiiii'])\n",
    "score=pd.Series([23,45,65,43,10,15,21,37,9,4,11],index=i)\n",
    "print(score)"
   ]
  },
  {
   "cell_type": "markdown",
   "id": "798ec8a7",
   "metadata": {},
   "source": [
    "# Dataframes;"
   ]
  },
  {
   "cell_type": "code",
   "execution_count": 9,
   "id": "885ee65a",
   "metadata": {},
   "outputs": [
    {
     "name": "stdout",
     "output_type": "stream",
     "text": [
      "[[0 1 2]\n",
      " [3 4 5]\n",
      " [6 7 8]]\n",
      "   A  B  C\n",
      "a  0  1  2\n",
      "b  3  4  5\n",
      "c  6  7  8\n"
     ]
    }
   ],
   "source": [
    "import numpy as np\n",
    "import pandas as pd\n",
    "arr=np.arange(0,9).reshape(3,3)\n",
    "print(arr)\n",
    "df=pd.DataFrame(arr,index=['a','b','c'],columns=['A','B','C'])\n",
    "print(df)"
   ]
  },
  {
   "cell_type": "code",
   "execution_count": null,
   "id": "c6f245c4",
   "metadata": {},
   "outputs": [],
   "source": []
  }
 ],
 "metadata": {
  "kernelspec": {
   "display_name": "Python 3 (ipykernel)",
   "language": "python",
   "name": "python3"
  },
  "language_info": {
   "codemirror_mode": {
    "name": "ipython",
    "version": 3
   },
   "file_extension": ".py",
   "mimetype": "text/x-python",
   "name": "python",
   "nbconvert_exporter": "python",
   "pygments_lexer": "ipython3",
   "version": "3.9.12"
  }
 },
 "nbformat": 4,
 "nbformat_minor": 5
}
