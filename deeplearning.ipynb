{
  "nbformat": 4,
  "nbformat_minor": 0,
  "metadata": {
    "colab": {
      "provenance": [],
      "authorship_tag": "ABX9TyOMvwFBLjy2KWZkckG1Cy8y",
      "include_colab_link": true
    },
    "kernelspec": {
      "name": "python3",
      "display_name": "Python 3"
    },
    "language_info": {
      "name": "python"
    }
  },
  "cells": [
    {
      "cell_type": "markdown",
      "metadata": {
        "id": "view-in-github",
        "colab_type": "text"
      },
      "source": [
        "<a href=\"https://colab.research.google.com/github/nikhilthakka/pydatabase/blob/main/deeplearning.ipynb\" target=\"_parent\"><img src=\"https://colab.research.google.com/assets/colab-badge.svg\" alt=\"Open In Colab\"/></a>"
      ]
    },
    {
      "cell_type": "code",
      "execution_count": 34,
      "metadata": {
        "id": "v73UsOmJPapS"
      },
      "outputs": [],
      "source": [
        "import tensorflow as tf"
      ]
    },
    {
      "cell_type": "code",
      "source": [
        "tf.__version__"
      ],
      "metadata": {
        "colab": {
          "base_uri": "https://localhost:8080/",
          "height": 35
        },
        "id": "0tko2Pv2Phyk",
        "outputId": "4acfa86a-98e2-46e2-efdf-7108256f2a48"
      },
      "execution_count": 35,
      "outputs": [
        {
          "output_type": "execute_result",
          "data": {
            "text/plain": [
              "'2.9.2'"
            ],
            "application/vnd.google.colaboratory.intrinsic+json": {
              "type": "string"
            }
          },
          "metadata": {},
          "execution_count": 35
        }
      ]
    },
    {
      "cell_type": "code",
      "source": [
        "mnist=tf.keras.datasets.mnist\n",
        "(x_train , y_train) , (x_test , y_test) =mnist.load_data()\n",
        "x_train , x_test = x_train/ 255.0,x_test/ 255.0\n"
      ],
      "metadata": {
        "id": "aateVdUbP1FT"
      },
      "execution_count": 36,
      "outputs": []
    },
    {
      "cell_type": "code",
      "source": [
        "model=tf.keras.models.Sequential([\n",
        "    tf.keras.layers.Flatten(input_shape=(28,28)),\n",
        "    tf.keras.layers.Dense(128,activation='relu'),\n",
        "    tf.keras.layers.Dropout(0.2),\n",
        "    tf.keras.layers.Dense(10)\n",
        "    \n",
        "    ])"
      ],
      "metadata": {
        "id": "0CIqz4N9QkXk"
      },
      "execution_count": 37,
      "outputs": []
    },
    {
      "cell_type": "code",
      "source": [
        "\n",
        "model.compile(optimizer='adam',\n",
        "              loss=tf.keras.losses.SparseCategoricalCrossentropy(from_logits=True),\n",
        "              metrics=['accuracy'])"
      ],
      "metadata": {
        "id": "teBk741cSpqV"
      },
      "execution_count": 40,
      "outputs": []
    },
    {
      "cell_type": "code",
      "source": [
        "model.fit(x_train,y_train,epochs=7)"
      ],
      "metadata": {
        "colab": {
          "base_uri": "https://localhost:8080/"
        },
        "id": "f0Zrjs57TvKw",
        "outputId": "043288c4-b6a8-41d5-e5f4-d4b693161940"
      },
      "execution_count": 41,
      "outputs": [
        {
          "output_type": "stream",
          "name": "stdout",
          "text": [
            "Epoch 1/7\n",
            "1875/1875 [==============================] - 8s 4ms/step - loss: 0.2976 - accuracy: 0.9137\n",
            "Epoch 2/7\n",
            "1875/1875 [==============================] - 7s 4ms/step - loss: 0.1436 - accuracy: 0.9574\n",
            "Epoch 3/7\n",
            "1875/1875 [==============================] - 7s 4ms/step - loss: 0.1090 - accuracy: 0.9671\n",
            "Epoch 4/7\n",
            "1875/1875 [==============================] - 7s 4ms/step - loss: 0.0879 - accuracy: 0.9722\n",
            "Epoch 5/7\n",
            "1875/1875 [==============================] - 8s 4ms/step - loss: 0.0747 - accuracy: 0.9772\n",
            "Epoch 6/7\n",
            "1875/1875 [==============================] - 7s 4ms/step - loss: 0.0672 - accuracy: 0.9786\n",
            "Epoch 7/7\n",
            "1875/1875 [==============================] - 7s 4ms/step - loss: 0.0576 - accuracy: 0.9811\n"
          ]
        },
        {
          "output_type": "execute_result",
          "data": {
            "text/plain": [
              "<keras.callbacks.History at 0x7fdcef016430>"
            ]
          },
          "metadata": {},
          "execution_count": 41
        }
      ]
    },
    {
      "cell_type": "code",
      "source": [],
      "metadata": {
        "id": "qO1hfUTAVTTc"
      },
      "execution_count": null,
      "outputs": []
    }
  ]
}